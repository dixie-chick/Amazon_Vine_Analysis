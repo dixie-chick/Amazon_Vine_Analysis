{
  "nbformat": 4,
  "nbformat_minor": 0,
  "metadata": {
    "colab": {
      "name": "Vine_Review_Analysis.ipynb",
      "provenance": [],
      "authorship_tag": "ABX9TyMP/tO/lnSf5FZKfw/Edzdo",
      "include_colab_link": true
    },
    "kernelspec": {
      "name": "python3",
      "display_name": "Python 3"
    },
    "language_info": {
      "name": "python"
    }
  },
  "cells": [
    {
      "cell_type": "markdown",
      "metadata": {
        "id": "view-in-github",
        "colab_type": "text"
      },
      "source": [
        "<a href=\"https://colab.research.google.com/github/dixie-chick/Amazon_Vine_Analysis/blob/main/Vine_Review_Analysis.ipynb\" target=\"_parent\"><img src=\"https://colab.research.google.com/assets/colab-badge.svg\" alt=\"Open In Colab\"/></a>"
      ]
    },
    {
      "cell_type": "code",
      "metadata": {
        "colab": {
          "base_uri": "https://localhost:8080/"
        },
        "id": "LXHR5P0vxsKu",
        "outputId": "e48e8114-a284-4261-9cfc-3fdc37a7fcdb"
      },
      "source": [
        "import os\n",
        "# Find the latest version of spark 2.0  from http://www-us.apache.org/dist/spark/ and enter as the spark version\n",
        "# For example:\n",
        "# spark_version = 'spark-3.0.0'\n",
        "spark_version = 'spark-3.0.3'\n",
        "os.environ['SPARK_VERSION']=spark_version\n",
        "\n",
        "# Install Spark and Java\n",
        "!apt-get update\n",
        "!apt-get install openjdk-11-jdk-headless -qq > /dev/null\n",
        "!wget -q http://www-us.apache.org/dist/spark/$SPARK_VERSION/$SPARK_VERSION-bin-hadoop2.7.tgz\n",
        "!tar xf $SPARK_VERSION-bin-hadoop2.7.tgz\n",
        "!pip install -q findspark\n",
        "\n",
        "# Set Environment Variables\n",
        "import os\n",
        "os.environ[\"JAVA_HOME\"] = \"/usr/lib/jvm/java-11-openjdk-amd64\"\n",
        "os.environ[\"SPARK_HOME\"] = f\"/content/{spark_version}-bin-hadoop2.7\"\n",
        "\n",
        "# Start a SparkSession\n",
        "import findspark\n",
        "findspark.init()"
      ],
      "execution_count": 1,
      "outputs": [
        {
          "output_type": "stream",
          "text": [
            "\r0% [Working]\r            \rGet:1 http://security.ubuntu.com/ubuntu bionic-security InRelease [88.7 kB]\n",
            "\r0% [Connecting to archive.ubuntu.com (91.189.88.142)] [1 InRelease 0 B/88.7 kB \r0% [Connecting to archive.ubuntu.com (91.189.88.142)] [Connected to cloud.r-pro\r0% [1 InRelease gpgv 88.7 kB] [Waiting for headers] [Waiting for headers] [Wait\r                                                                               \rGet:2 https://cloud.r-project.org/bin/linux/ubuntu bionic-cran40/ InRelease [3,626 B]\n",
            "Ign:3 https://developer.download.nvidia.com/compute/cuda/repos/ubuntu1804/x86_64  InRelease\n",
            "Get:4 http://ppa.launchpad.net/c2d4u.team/c2d4u4.0+/ubuntu bionic InRelease [15.9 kB]\n",
            "Hit:5 http://archive.ubuntu.com/ubuntu bionic InRelease\n",
            "Ign:6 https://developer.download.nvidia.com/compute/machine-learning/repos/ubuntu1804/x86_64  InRelease\n",
            "Hit:7 https://developer.download.nvidia.com/compute/cuda/repos/ubuntu1804/x86_64  Release\n",
            "Hit:8 https://developer.download.nvidia.com/compute/machine-learning/repos/ubuntu1804/x86_64  Release\n",
            "Get:9 http://archive.ubuntu.com/ubuntu bionic-updates InRelease [88.7 kB]\n",
            "Hit:10 http://ppa.launchpad.net/cran/libgit2/ubuntu bionic InRelease\n",
            "Get:11 http://security.ubuntu.com/ubuntu bionic-security/main amd64 Packages [2,221 kB]\n",
            "Get:12 http://archive.ubuntu.com/ubuntu bionic-backports InRelease [74.6 kB]\n",
            "Get:13 http://security.ubuntu.com/ubuntu bionic-security/universe amd64 Packages [1,418 kB]\n",
            "Hit:14 http://ppa.launchpad.net/deadsnakes/ppa/ubuntu bionic InRelease\n",
            "Hit:15 http://ppa.launchpad.net/graphics-drivers/ppa/ubuntu bionic InRelease\n",
            "Get:18 http://ppa.launchpad.net/c2d4u.team/c2d4u4.0+/ubuntu bionic/main Sources [1,780 kB]\n",
            "Get:19 http://archive.ubuntu.com/ubuntu bionic-updates/universe amd64 Packages [2,188 kB]\n",
            "Get:20 http://ppa.launchpad.net/c2d4u.team/c2d4u4.0+/ubuntu bionic/main amd64 Packages [911 kB]\n",
            "Get:21 http://archive.ubuntu.com/ubuntu bionic-updates/main amd64 Packages [2,658 kB]\n",
            "Fetched 11.4 MB in 3s (3,431 kB/s)\n",
            "Reading package lists... Done\n"
          ],
          "name": "stdout"
        }
      ]
    },
    {
      "cell_type": "code",
      "metadata": {
        "id": "638mvju7yX_f"
      },
      "source": [
        "from pyspark.sql import SparkSession\n",
        "spark = SparkSession.builder.appName(\"BigData-Challenge\").config(\"spark.driver.extraClassPath\",\"/content/postgresql-42.2.16.jar\").getOrCreate()"
      ],
      "execution_count": 2,
      "outputs": []
    },
    {
      "cell_type": "code",
      "metadata": {
        "colab": {
          "base_uri": "https://localhost:8080/"
        },
        "id": "3YWeCegGyZhV",
        "outputId": "12c8671d-69d8-4318-8d10-0fec8162cc97"
      },
      "source": [
        "from pyspark import SparkFiles\n",
        "url = \"https://s3.amazonaws.com/amazon-reviews-pds/tsv/amazon_reviews_us_Pet_Products_v1_00.tsv.gz\"\n",
        "spark.sparkContext.addFile(url)\n",
        "df = spark.read.option(\"encoding\", \"UTF-8\").csv(SparkFiles.get(\"amazon_reviews_us_Pet_Products_v1_00.tsv.gz\"), sep=\"\\t\", header=True, inferSchema=True)\n",
        "df.show()"
      ],
      "execution_count": 4,
      "outputs": [
        {
          "output_type": "stream",
          "text": [
            "+-----------+-----------+--------------+----------+--------------+--------------------+----------------+-----------+-------------+-----------+----+-----------------+--------------------+--------------------+-----------+\n",
            "|marketplace|customer_id|     review_id|product_id|product_parent|       product_title|product_category|star_rating|helpful_votes|total_votes|vine|verified_purchase|     review_headline|         review_body|review_date|\n",
            "+-----------+-----------+--------------+----------+--------------+--------------------+----------------+-----------+-------------+-----------+----+-----------------+--------------------+--------------------+-----------+\n",
            "|         US|   28794885| REAKC26P07MDN|B00Q0K9604|     510387886|(8-Pack) EZwhelp ...|    Pet Products|          5|            0|          0|   N|                Y|A great purchase ...|Best belly bands ...| 2015-08-31|\n",
            "|         US|   11488901|R3NU7OMZ4HQIEG|B00MBW5O9W|     912374672|Warren Eckstein's...|    Pet Products|          2|            0|          1|   N|                Y|My dogs love Hugs...|My dogs love Hugs...| 2015-08-31|\n",
            "|         US|   43214993|R14QJW3XF8QO1P|B0084OHUIO|     902215727|Tyson's True Chew...|    Pet Products|          5|            0|          0|   N|                Y|I have been purch...|I have been purch...| 2015-08-31|\n",
            "|         US|   12835065|R2HB7AX0394ZGY|B001GS71K2|     568880110|Soft Side Pet Cra...|    Pet Products|          5|            0|          0|   N|                Y|it is easy to ope...|It is extremely w...| 2015-08-31|\n",
            "|         US|   26334022| RGKMPDQGSAHR3|B004ABH1LG|     692846826|EliteField 3-Door...|    Pet Products|          5|            0|          0|   N|                Y|           Dog crate|Worked really wel...| 2015-08-31|\n",
            "|         US|   22283621|R1DJCVPQGCV66E|B00AX0LFM4|     590674141|Carlson 68-Inch W...|    Pet Products|          5|            0|          0|   N|                Y|          Five Stars|I love my gates! ...| 2015-08-31|\n",
            "|         US|   14469895|R3V52EAWLPBFQG|B00DQFZGZ0|     688538603|Dog Seat Cover Wi...|    Pet Products|          3|            0|          0|   N|                Y|Seat belt tugs on...|Didn't quite work...| 2015-08-31|\n",
            "|         US|   50896354|R3DKO8J1J28QBI|B00DIRF9US|     742358789|The Bird Catcher ...|    Pet Products|          2|            0|          0|   N|                Y|Great Pole, but S...|I had the origina...| 2015-08-31|\n",
            "|         US|   18440567| R764DBXGRNECG|B00JRCBFUG|     869798483|Cat Bed - Purrfec...|    Pet Products|          5|            1|          1|   N|                N|     My cat loves it|The pad is very s...| 2015-08-31|\n",
            "|         US|   50502362| RW1853GAT0Z9F|B000L3XYZ4|     501118658|PetSafe Drinkwell...|    Pet Products|          5|            0|          0|   N|                Y|          Five Stars|My cat drinks mor...| 2015-08-31|\n",
            "|         US|   33930128|R33GITXNUF1AD4|B00BOEXWFG|     454737777|Contech ZenDog Ca...|    Pet Products|          2|            0|          0|   N|                Y|Also had to pull ...|Much smaller than...| 2015-08-31|\n",
            "|         US|   43534290|R1H7AVM81TAYRV|B001HBBQKY|     420905252|Wellness Crunchy ...|    Pet Products|          1|            2|          2|   N|                Y|DO NOT PURCHASE -...|I used to love th...| 2015-08-31|\n",
            "|         US|   45555864|R2ZOYAQZNNZZWV|B007O1FHB0|     302588963|Rx Vitamins Essen...|    Pet Products|          5|            0|          0|   N|                Y|          Five Stars|Recommended by my...| 2015-08-31|\n",
            "|         US|   11147406|R2FN1H3CGW6J8H|B001P3NU30|     525778264|Virbac C.E.T. Enz...|    Pet Products|          1|            0|          0|   N|                Y|Received wrong pr...|Yes I  ordered fo...| 2015-08-31|\n",
            "|         US|    6495678| RJB41Q575XNG4|B00ZP6HS6S|     414117299|Kitty Shack - 2 i...|    Pet Products|          5|            0|          3|   N|                Y|          Five Stars|      It falls apart| 2015-08-31|\n",
            "|         US|    2019416|R28W8BM1587CPF|B00IP05CUA|     833937853|Wellness Kittles ...|    Pet Products|          5|            0|          0|   N|                Y|kitty is ravenous...|My cat really lov...| 2015-08-31|\n",
            "|         US|   40459386|R1II0M01NIG293|B001U8Y598|      85343577|OmniPet Anti-Ant ...|    Pet Products|          2|            0|          0|   N|                N|Maybe other speci...|This bowl is not ...| 2015-08-31|\n",
            "|         US|   23126800| RMB8N0DBRH34O|B011AY4JWO|     499241195|K9KONNECTION [New...|    Pet Products|          5|            1|          1|   N|                Y|This works, dog n...|I have a small do...| 2015-08-31|\n",
            "|         US|   30238476|R24WB6A6WVIPU6|B00DDSHE5A|     409532388|SUNSEED COMPANY 3...|    Pet Products|          5|            0|          0|   N|                Y|    Yummy for Bunny!|Bunny loves it! E...| 2015-08-31|\n",
            "|         US|   35113999| ROCJSH0P9YSRW|B00PJW5OR8|     259271919|CXB1983(TM)Cute P...|    Pet Products|          5|            0|          0|   N|                Y|excellent price, ...|Petfect,,quality ...| 2015-08-31|\n",
            "+-----------+-----------+--------------+----------+--------------+--------------------+----------------+-----------+-------------+-----------+----+-----------------+--------------------+--------------------+-----------+\n",
            "only showing top 20 rows\n",
            "\n"
          ],
          "name": "stdout"
        }
      ]
    },
    {
      "cell_type": "code",
      "metadata": {
        "colab": {
          "base_uri": "https://localhost:8080/"
        },
        "id": "wpgrbcWuydgo",
        "outputId": "9d3d7175-bd83-44b7-c998-7ff5512045d1"
      },
      "source": [
        "# Create the vine_table. DataFrame\n",
        "vine_df = df.select([\"review_id\", \"star_rating\", \"helpful_votes\", \"total_votes\", \"vine\", \"verified_purchase\"])\n",
        "vine_df.show()"
      ],
      "execution_count": 8,
      "outputs": [
        {
          "output_type": "stream",
          "text": [
            "+--------------+-----------+-------------+-----------+----+-----------------+\n",
            "|     review_id|star_rating|helpful_votes|total_votes|vine|verified_purchase|\n",
            "+--------------+-----------+-------------+-----------+----+-----------------+\n",
            "| REAKC26P07MDN|          5|            0|          0|   N|                Y|\n",
            "|R3NU7OMZ4HQIEG|          2|            0|          1|   N|                Y|\n",
            "|R14QJW3XF8QO1P|          5|            0|          0|   N|                Y|\n",
            "|R2HB7AX0394ZGY|          5|            0|          0|   N|                Y|\n",
            "| RGKMPDQGSAHR3|          5|            0|          0|   N|                Y|\n",
            "|R1DJCVPQGCV66E|          5|            0|          0|   N|                Y|\n",
            "|R3V52EAWLPBFQG|          3|            0|          0|   N|                Y|\n",
            "|R3DKO8J1J28QBI|          2|            0|          0|   N|                Y|\n",
            "| R764DBXGRNECG|          5|            1|          1|   N|                N|\n",
            "| RW1853GAT0Z9F|          5|            0|          0|   N|                Y|\n",
            "|R33GITXNUF1AD4|          2|            0|          0|   N|                Y|\n",
            "|R1H7AVM81TAYRV|          1|            2|          2|   N|                Y|\n",
            "|R2ZOYAQZNNZZWV|          5|            0|          0|   N|                Y|\n",
            "|R2FN1H3CGW6J8H|          1|            0|          0|   N|                Y|\n",
            "| RJB41Q575XNG4|          5|            0|          3|   N|                Y|\n",
            "|R28W8BM1587CPF|          5|            0|          0|   N|                Y|\n",
            "|R1II0M01NIG293|          2|            0|          0|   N|                N|\n",
            "| RMB8N0DBRH34O|          5|            1|          1|   N|                Y|\n",
            "|R24WB6A6WVIPU6|          5|            0|          0|   N|                Y|\n",
            "| ROCJSH0P9YSRW|          5|            0|          0|   N|                Y|\n",
            "+--------------+-----------+-------------+-----------+----+-----------------+\n",
            "only showing top 20 rows\n",
            "\n"
          ],
          "name": "stdout"
        }
      ]
    },
    {
      "cell_type": "code",
      "metadata": {
        "colab": {
          "base_uri": "https://localhost:8080/"
        },
        "id": "MZ-7o_lGyiiD",
        "outputId": "19c1bf94-41da-4dd9-a99b-3c5951849069"
      },
      "source": [
        "# Step 1. Filter the data and create new DF to retrieve rows where total_votes >= 20\n",
        "#over_20_votes_df=vine_df.filter(\"total_votes>=20\")\n",
        "#over_20_votes_df.show()\n",
        "\n",
        "# Check using Python Comparison\n",
        "over_20_votes_df=vine_df.filter(vine_df[\"total_votes\"]>=20)\n",
        "over_20_votes_df.show()"
      ],
      "execution_count": 23,
      "outputs": [
        {
          "output_type": "stream",
          "text": [
            "+--------------+-----------+-------------+-----------+----+-----------------+\n",
            "|     review_id|star_rating|helpful_votes|total_votes|vine|verified_purchase|\n",
            "+--------------+-----------+-------------+-----------+----+-----------------+\n",
            "|R21KC552Y6HL8X|          1|           27|         31|   N|                Y|\n",
            "| RX9WC9FTIR1XR|          5|           25|         25|   N|                Y|\n",
            "| RGDCOU1KBHMNG|          3|           29|         31|   N|                Y|\n",
            "| RVTYWID2TPMMY|          2|           35|         42|   N|                Y|\n",
            "|R2CMPZ5VESGRLY|          4|           27|         28|   N|                Y|\n",
            "|R3VQPJZ54B55BA|          5|           62|         64|   N|                N|\n",
            "|R24QM6D7FEDZ5M|          2|           36|         43|   N|                Y|\n",
            "|R3A1VQ3SQDXEJ3|          5|           20|         20|   N|                Y|\n",
            "|  R39GSNW76GYF|          1|           20|         23|   N|                Y|\n",
            "| RPJLR6MFDPXXE|          5|           35|         36|   N|                Y|\n",
            "|R34X0ZGVB3YGYO|          5|           47|         47|   N|                Y|\n",
            "|R2C9O1BOV14Q0Z|          1|           62|         79|   N|                Y|\n",
            "| RM6ZH5J3XDNHK|          5|           79|         87|   N|                Y|\n",
            "|R2E363K75EMW4K|          5|           66|         69|   N|                Y|\n",
            "|R2VJII8VKSJHDF|          1|           24|         29|   N|                N|\n",
            "|R2U35Y2P27M13E|          1|           43|         45|   N|                Y|\n",
            "| RLMZOQL11VHBX|          5|           23|         24|   N|                Y|\n",
            "|R3C6CQQRRA8SYP|          5|           52|         58|   N|                Y|\n",
            "|R3T7YOX0AEDZL3|          1|           45|         47|   N|                N|\n",
            "|R176V3AYS3R4HG|          5|           26|         27|   N|                N|\n",
            "+--------------+-----------+-------------+-----------+----+-----------------+\n",
            "only showing top 20 rows\n",
            "\n"
          ],
          "name": "stdout"
        }
      ]
    },
    {
      "cell_type": "code",
      "metadata": {
        "colab": {
          "base_uri": "https://localhost:8080/"
        },
        "id": "zK5z0eHUysRP",
        "outputId": "07d27517-7d05-41a2-f074-c3d8d1c250b0"
      },
      "source": [
        "#Step 2. Filter DF and create new DF where number of helpful_votes/total_votes >= 50%\n",
        "over_50_votes_df = over_20_votes_df.filter((over_20_votes_df[\"helpful_votes\"]/over_20_votes_df[\"total_votes\"])>=.5)\n",
        "over_50_votes_df.show()"
      ],
      "execution_count": 24,
      "outputs": [
        {
          "output_type": "stream",
          "text": [
            "+--------------+-----------+-------------+-----------+----+-----------------+\n",
            "|     review_id|star_rating|helpful_votes|total_votes|vine|verified_purchase|\n",
            "+--------------+-----------+-------------+-----------+----+-----------------+\n",
            "|R21KC552Y6HL8X|          1|           27|         31|   N|                Y|\n",
            "| RX9WC9FTIR1XR|          5|           25|         25|   N|                Y|\n",
            "| RGDCOU1KBHMNG|          3|           29|         31|   N|                Y|\n",
            "| RVTYWID2TPMMY|          2|           35|         42|   N|                Y|\n",
            "|R2CMPZ5VESGRLY|          4|           27|         28|   N|                Y|\n",
            "|R3VQPJZ54B55BA|          5|           62|         64|   N|                N|\n",
            "|R24QM6D7FEDZ5M|          2|           36|         43|   N|                Y|\n",
            "|R3A1VQ3SQDXEJ3|          5|           20|         20|   N|                Y|\n",
            "|  R39GSNW76GYF|          1|           20|         23|   N|                Y|\n",
            "| RPJLR6MFDPXXE|          5|           35|         36|   N|                Y|\n",
            "|R34X0ZGVB3YGYO|          5|           47|         47|   N|                Y|\n",
            "|R2C9O1BOV14Q0Z|          1|           62|         79|   N|                Y|\n",
            "| RM6ZH5J3XDNHK|          5|           79|         87|   N|                Y|\n",
            "|R2E363K75EMW4K|          5|           66|         69|   N|                Y|\n",
            "|R2VJII8VKSJHDF|          1|           24|         29|   N|                N|\n",
            "|R2U35Y2P27M13E|          1|           43|         45|   N|                Y|\n",
            "| RLMZOQL11VHBX|          5|           23|         24|   N|                Y|\n",
            "|R3C6CQQRRA8SYP|          5|           52|         58|   N|                Y|\n",
            "|R3T7YOX0AEDZL3|          1|           45|         47|   N|                N|\n",
            "|R176V3AYS3R4HG|          5|           26|         27|   N|                N|\n",
            "+--------------+-----------+-------------+-----------+----+-----------------+\n",
            "only showing top 20 rows\n",
            "\n"
          ],
          "name": "stdout"
        }
      ]
    },
    {
      "cell_type": "code",
      "metadata": {
        "id": "dQwAuz7Sy1Ja"
      },
      "source": [
        "# Step 3. Filter DF and create new DF so rows to show paid Vine reviews vine == \"Y\"\n",
        "vine_Y=over_50_votes_df.filter(over_50_votes_df[\"vine\"] == \"Y\")"
      ],
      "execution_count": 27,
      "outputs": []
    },
    {
      "cell_type": "code",
      "metadata": {
        "id": "hHtaIQ66zP_B"
      },
      "source": [
        "# Step 4. Filter DF and create new DF so rows to show paid Vine reviews vine == \"N\"\n",
        "vine_N=over_50_votes_df.filter(over_50_votes_df[\"vine\"] == \"N\")"
      ],
      "execution_count": 28,
      "outputs": []
    },
    {
      "cell_type": "code",
      "metadata": {
        "colab": {
          "base_uri": "https://localhost:8080/"
        },
        "id": "CV7gZOuozUup",
        "outputId": "3834b2cd-8250-4904-d959-ac2a0c7fbb17"
      },
      "source": [
        "#Step 5. Calculate summaries for Vine participants \n",
        "#1) total number of reviews\n",
        "total_reviews_yes=vine_Y.count()\n",
        "#2) 5-star reviews \n",
        "total_5star_yes=vine_Y.filter(vine_Y[\"star_rating\"] == \"5\").count()\n",
        "#3) percentage of 5-star reviews for paid v unpaid\n",
        "percentage_yes=round((total_5star_yes/total_reviews_yes)*100)\n",
        "\n",
        "print(\"Vine Participants\")\n",
        "print(f\"--------------------\")\n",
        "print(f\"Total Reviews: {total_reviews_yes}\")\n",
        "print(f\"Total 5-Star Reviews: {total_5star_yes}\")\n",
        "print(f\"Percentage of 5 Star Reviews: {percentage_yes}%\")"
      ],
      "execution_count": 32,
      "outputs": [
        {
          "output_type": "stream",
          "text": [
            "Vine Participants\n",
            "--------------------\n",
            "Total Reviews: 170\n",
            "Total 5-Star Reviews: 65\n",
            "Percentage of 5 Star Reviews: 38%\n"
          ],
          "name": "stdout"
        }
      ]
    },
    {
      "cell_type": "code",
      "metadata": {
        "colab": {
          "base_uri": "https://localhost:8080/"
        },
        "id": "fwgbOEmP-Yjg",
        "outputId": "f0501eee-8d00-4a85-d7c3-ecabf3827088"
      },
      "source": [
        "#Step 5. Calculate summaries for NonVine participants \n",
        "#1) total number of reviews\n",
        "total_reviews_no=vine_N.count()\n",
        "#2) 5-star reviews \n",
        "total_5star_no=vine_N.filter(vine_N[\"star_rating\"] == \"5\").count()\n",
        "#3) percentage of 5-star reviews for paid v unpaid\n",
        "percentage_no=round((total_5star_no/total_reviews_no)*100)\n",
        "\n",
        "print(\"Non-Vine Participants\")\n",
        "print(f\"--------------------\")\n",
        "print(f\"Total Reviews: {total_reviews_no}\")\n",
        "print(f\"Total 5-Star Reviews: {total_5star_no}\")\n",
        "print(f\"Percentage of 5 Star Reviews: {percentage_no}%\")\n"
      ],
      "execution_count": 31,
      "outputs": [
        {
          "output_type": "stream",
          "text": [
            "Non-Vine Participants\n",
            "--------------------\n",
            "Total Reviews: 37840\n",
            "Total 5-Star Reviews: 20612\n",
            "Percentage of 5 Star Reviews: 54%\n"
          ],
          "name": "stdout"
        }
      ]
    },
    {
      "cell_type": "code",
      "metadata": {
        "id": "KiHbsvfi_bZb"
      },
      "source": [
        ""
      ],
      "execution_count": null,
      "outputs": []
    }
  ]
}